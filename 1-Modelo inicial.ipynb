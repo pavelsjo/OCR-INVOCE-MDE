{
 "cells": [
  {
   "cell_type": "markdown",
   "metadata": {},
   "source": [
    "# Importamos las librerias "
   ]
  },
  {
   "cell_type": "code",
   "execution_count": 1,
   "metadata": {},
   "outputs": [],
   "source": [
    "from wand.image import Image as Img #Convierte un pdf en una imagenes\n",
    "from PIL import Image #Manipular las imagenes generadas\n",
    "import pytesseract #Lector OCR\n",
    "\n",
    "import re\n",
    "import json"
   ]
  },
  {
   "cell_type": "markdown",
   "metadata": {},
   "source": [
    "### 1.Covertimos el pdf a una imagen "
   ]
  },
  {
   "cell_type": "code",
   "execution_count": 2,
   "metadata": {},
   "outputs": [],
   "source": [
    "with Img(filename=r'./raw/factura_001.pdf', resolution=300) as img:\n",
    "    img.compression_quality = 99\n",
    "    img\n",
    "    img.save(filename='./raw/factura_001.jpg')"
   ]
  },
  {
   "cell_type": "markdown",
   "metadata": {},
   "source": [
    "### 2. Extraemos el texto de la factura"
   ]
  },
  {
   "cell_type": "code",
   "execution_count": 8,
   "metadata": {},
   "outputs": [
    {
     "name": "stdout",
     "output_type": "stream",
     "text": [
      "B R OW N E FACTURA ELECTRONICA\n",
      "INVOICE No.: 1989\n",
      "AGENCIA DE ADUANAS\n",
      "SOLD T0: MERCADO DE LAS FRUTAS DATE INV.: 09/12/2005\n",
      "FOB 129.200\n",
      "\n",
      "3.300\n",
      "\n",
      "DETALLE FACTURA DE GASTOS\n",
      "\n",
      "DESEMBOLSOS CUENTA CLUENTE\n",
      "\n",
      "Aduana O Cancelado\n",
      "Desembolso Cuenta Cliente 1096137\n",
      "Factura de gastos 499960\n",
      "\n",
      "Agencia de Aduanas 1\n",
      "\n",
      "TOTAL DUE: 1.596.097\n",
      "\n",
      " \n",
      "\n",
      "\n"
     ]
    }
   ],
   "source": [
    "text = pytesseract.image_to_string(Image.open('./raw/factura_001.jpg'))\n",
    "print(text)"
   ]
  },
  {
   "cell_type": "code",
   "execution_count": 9,
   "metadata": {},
   "outputs": [],
   "source": [
    "#archivo-salida.py\n",
    "f = open ('./text/factura_001.txt','w')\n",
    "f.write(text)\n",
    "f.close()"
   ]
  },
  {
   "cell_type": "markdown",
   "metadata": {},
   "source": [
    "### 3. Extraemos los datos y los integramos en un diccionario"
   ]
  },
  {
   "cell_type": "code",
   "execution_count": 6,
   "metadata": {},
   "outputs": [
    {
     "data": {
      "text/plain": [
       "{'INVOICE': ['1989'], 'DATE': ['09/12/2005'], 'TOTAL DUE': ['1.596.097']}"
      ]
     },
     "execution_count": 6,
     "metadata": {},
     "output_type": "execute_result"
    }
   ],
   "source": [
    "dic_extracted = {'INVOICE' : re.findall(r'INVOICE No.: (\\d+)', text),\n",
    "                 'DATE' : re.findall(r'INV.: (\\d+[/]\\d+[/]\\d+)', text),\n",
    "                 'TOTAL DUE' : re.findall(r'TOTAL DUE: (\\d+[.,]\\d+[.,]\\d+)', text)}\n",
    "dic_extracted"
   ]
  },
  {
   "cell_type": "markdown",
   "metadata": {},
   "source": [
    "### 4. Exportamos"
   ]
  },
  {
   "cell_type": "code",
   "execution_count": 7,
   "metadata": {},
   "outputs": [],
   "source": [
    "with open('./json/factura_001.txt', 'w') as json_file:\n",
    "    json.dump(dic_extracted, json_file)"
   ]
  }
 ],
 "metadata": {
  "kernelspec": {
   "display_name": "Python 3",
   "language": "python",
   "name": "python3"
  },
  "language_info": {
   "codemirror_mode": {
    "name": "ipython",
    "version": 3
   },
   "file_extension": ".py",
   "mimetype": "text/x-python",
   "name": "python",
   "nbconvert_exporter": "python",
   "pygments_lexer": "ipython3",
   "version": "3.6.10"
  }
 },
 "nbformat": 4,
 "nbformat_minor": 4
}
