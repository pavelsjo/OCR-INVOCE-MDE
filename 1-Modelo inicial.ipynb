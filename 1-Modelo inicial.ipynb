{
 "cells": [
  {
   "cell_type": "markdown",
   "metadata": {},
   "source": [
    "# INTRODUCCION\n",
    "El objetivo del proyecto es implementar un sistema en la Aduana de Paraguay que permita determinar el grado de coincidencia entre la declaración de valor del importador y el contenido de la imagen de cada factura correspondiente al despacho.\n"
   ]
  },
  {
   "cell_type": "markdown",
   "metadata": {},
   "source": [
    "## tags examples\n",
    "\n",
    "- **SOLD TO:** J & S SRL\n",
    "- **DATE INV:** 06/06/2016\n",
    "- **INVOICE No:** 1634828\n",
    "- **TOTAL DUE:** $16.350,00\n",
    "- telefono(resultado_ocr)\n",
    "- web_mail(resultado_ocr)\n",
    "- domicilio(resultado_ocr, domicilio_buscado)\n",
    "- importe(resultado_ocr, importe_buscado, cod_moneda)\n",
    "- marca(resultado_ocr, marca)\n"
   ]
  },
  {
   "cell_type": "markdown",
   "metadata": {},
   "source": [
    "### Importamos las librerias "
   ]
  },
  {
   "cell_type": "code",
   "execution_count": 1,
   "metadata": {},
   "outputs": [],
   "source": [
    "from wand.image import Image as Img #convierte un pdf en una imagenes\n",
    "from PIL import Image #se utiliza para manipular las imagenes generadas\n",
    "import pytesseract # lector OCR\n",
    "\n",
    "import re #para trabajar con expresiones regulares\n",
    "import json #exportamos nuestra información en un json\n",
    "\n",
    "pytesseract.pytesseract.tesseract_cmd = r'C:\\Program Files\\Tesseract-OCR\\tesseract.exe' #define la ruta donde esta installado el tesseract"
   ]
  },
  {
   "cell_type": "markdown",
   "metadata": {},
   "source": [
    "### 1.Covertimos el pdf a una imagen "
   ]
  },
  {
   "cell_type": "code",
   "execution_count": 2,
   "metadata": {},
   "outputs": [],
   "source": [
    "with Img(filename=r'raw\\factura_001.pdf', resolution=300) as img:\n",
    "    img.compression_quality = 99\n",
    "    img\n",
    "    img.save(filename='./raw/factura_001.jpg')"
   ]
  },
  {
   "cell_type": "markdown",
   "metadata": {},
   "source": [
    "### 2. Extraemos el texto de la factura"
   ]
  },
  {
   "cell_type": "code",
   "execution_count": 3,
   "metadata": {},
   "outputs": [],
   "source": [
    "text = pytesseract.image_to_string(Image.open('./raw/factura_001.jpg'))"
   ]
  },
  {
   "cell_type": "code",
   "execution_count": 4,
   "metadata": {},
   "outputs": [
    {
     "name": "stdout",
     "output_type": "stream",
     "text": [
      "BROWNE FACTURA ELECTRONICA\n",
      "\n",
      "INVOICE No.: 1989\n",
      "AGENCIA DE ADUANAS\n",
      "\n",
      "SOLD TO: MERCADO DE LAS FRUTAS DATE INV.: 09/12/2006\n",
      "\n",
      "129.200\n",
      "\n",
      "FACTURA DE GASTOS\n",
      "\n",
      "DESEMBOLSOS CUENTA CLUENTE\n",
      "\n",
      "Aduana Cancelado\n",
      "Desembolso Cuenta Cliente\n",
      "\n",
      "Factura de gastos Chile\n",
      "Agencia de Aduanas 1\n",
      "\n",
      "TOTAL DUE: 1.596.097\n"
     ]
    }
   ],
   "source": [
    "print(text)"
   ]
  },
  {
   "cell_type": "code",
   "execution_count": 5,
   "metadata": {},
   "outputs": [],
   "source": [
    "#archivo-salida.py\n",
    "f = open ('./text/factura_001.txt','w')\n",
    "f.write(text)\n",
    "f.close()"
   ]
  },
  {
   "cell_type": "markdown",
   "metadata": {},
   "source": [
    "## 3. Extraemos los datos y los integramos en un diccionario"
   ]
  },
  {
   "cell_type": "code",
   "execution_count": 6,
   "metadata": {},
   "outputs": [
    {
     "data": {
      "text/plain": [
       "{'INVOICE': ['1989'], 'DATE': ['09/12/2006'], 'TOTAL DUE': ['1.596.097']}"
      ]
     },
     "execution_count": 6,
     "metadata": {},
     "output_type": "execute_result"
    }
   ],
   "source": [
    "dic_extracted = {'INVOICE' : re.findall(r'INVOICE No.: (\\d+)', text),\n",
    "                 'DATE' : re.findall(r'INV.: (\\d+[/]\\d+[/]\\d+)', text),\n",
    "                 'TOTAL DUE' : re.findall(r'TOTAL DUE: (\\d+[.,]\\d+[.,]\\d+)', text)}\n",
    "dic_extracted"
   ]
  },
  {
   "cell_type": "markdown",
   "metadata": {},
   "source": [
    "### 4. Validamos"
   ]
  },
  {
   "cell_type": "code",
   "execution_count": null,
   "metadata": {},
   "outputs": [],
   "source": []
  },
  {
   "cell_type": "markdown",
   "metadata": {},
   "source": [
    "####  6. Exportamos"
   ]
  },
  {
   "cell_type": "code",
   "execution_count": 7,
   "metadata": {},
   "outputs": [],
   "source": [
    "with open('./json/factura_001.txt', 'w') as json_file:\n",
    "  json.dump(dic_extracted, json_file)"
   ]
  },
  {
   "cell_type": "code",
   "execution_count": null,
   "metadata": {},
   "outputs": [],
   "source": []
  }
 ],
 "metadata": {
  "kernelspec": {
   "display_name": "Python 3",
   "language": "python",
   "name": "python3"
  },
  "language_info": {
   "codemirror_mode": {
    "name": "ipython",
    "version": 3
   },
   "file_extension": ".py",
   "mimetype": "text/x-python",
   "name": "python",
   "nbconvert_exporter": "python",
   "pygments_lexer": "ipython3",
   "version": "3.7.1"
  }
 },
 "nbformat": 4,
 "nbformat_minor": 2
}